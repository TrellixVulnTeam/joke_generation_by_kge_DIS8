{
 "cells": [
  {
   "cell_type": "code",
   "execution_count": 7,
   "metadata": {},
   "outputs": [],
   "source": [
    "import networkx as nx\n",
    "import configparser\n",
    "import matplotlib.pyplot as plt\n",
    "import pandas as pd\n",
    "\n",
    "config = configparser.ConfigParser()\n",
    "config.read(\"../config.ini\")\n",
    "kg_path = \"../data/knowlegegraph_short_words.csv\"\n",
    "train_path = \"../\"+config[\"Paths\"][\"TrainDataPath\"]\n",
    "ent_vocab_path = \"../\"+config[\"Paths\"][\"EntVocabPath\"]\n",
    "rel_vocab_path = \"../\"+config[\"Paths\"][\"RelVocabPath\"]\n",
    "\n",
    "G = nx.Graph()\n",
    "ke = pd.read_csv(kg_path)\n",
    "\n",
    "\"\"\"\n",
    "with open(train_path, \"r\") as f:\n",
    "    for i, line in enumerate(f):\n",
    "        head, relation, tail = line.strip().split(\" \")\n",
    "        G.add_nodes_from([head, tail])\n",
    "        G.add_edge(head, tail)\n",
    "\"\"\"\n",
    "\n",
    "for head, relation, tail in ke[[\"head\", \"relation\", \"tail\"]].values:\n",
    "    #G.add_nodes_from([head, tail])\n",
    "    G.add_edge(head, tail, relation=relation)\n",
    "\n",
    "\n",
    "\n"
   ]
  },
  {
   "cell_type": "code",
   "execution_count": 8,
   "metadata": {},
   "outputs": [
    {
     "name": "stdout",
     "output_type": "stream",
     "text": [
      "278438\n",
      "158335\n"
     ]
    }
   ],
   "source": [
    "print(G.number_of_edges())\n",
    "print(G.number_of_nodes())"
   ]
  },
  {
   "cell_type": "code",
   "execution_count": 9,
   "metadata": {},
   "outputs": [],
   "source": [
    "\n",
    "import pickle\n",
    "with open(ent_vocab_path, \"rb\") as f:\n",
    "        ent_vocab = pickle.load(f)\n",
    "with open(rel_vocab_path, \"rb\") as f:\n",
    "        rel_vocab = pickle.load(f)"
   ]
  },
  {
   "cell_type": "code",
   "execution_count": 10,
   "metadata": {},
   "outputs": [
    {
     "name": "stdout",
     "output_type": "stream",
     "text": [
      "to touchdown\n",
      "{'you': {'relation': 'do you go'}, 'twister': {'relation': 'is to'}}\n",
      "2\n"
     ]
    }
   ],
   "source": [
    "head = \"men\"\n",
    "tail = \"to touchdown\"\n",
    "target = tail\n",
    "print(target)\n",
    "print(G.adj[target])\n",
    "print(G.degree[target])"
   ]
  },
  {
   "cell_type": "code",
   "execution_count": 11,
   "metadata": {},
   "outputs": [],
   "source": [
    "def find_nodes_related_edge(G, name_of_relation, shortest_nodes):\n",
    "    nx.get_edge_attributes(G,\"relation\")\n",
    "    _map = set()\n",
    "    for k, v in nx.get_edge_attributes(G,\"relation\").items():\n",
    "        if v == name_of_relation:\n",
    "            if k[0] in shortest_nodes or k[1] in shortest_nodes:\n",
    "                _map.add(k[0])\n",
    "                _map.add(k[1])\n",
    "    return list(_map)\n",
    "\n",
    "head = \"man\"\n",
    "relation = \"like\"\n",
    "tail = \"to touchdown\"\n",
    "shortest_nodes = nx.shortest_path(G, head, tail)\n",
    "linked_nodes= find_nodes_related_edge(G, relation, shortest_nodes)\n",
    "sub = G.subgraph(linked_nodes+shortest_nodes)\n",
    "\n",
    "nx.nx_agraph.view_pygraphviz(sub, prog='fdp')  # pygraphvizが必要\n",
    "plt.show()"
   ]
  },
  {
   "cell_type": "code",
   "execution_count": 163,
   "metadata": {},
   "outputs": [
    {
     "data": {
      "text/plain": [
       "{('to touchdown',\n",
       "  'you'): Text(0.4994005841836328, 0.2391423299756124, 'do you go'),\n",
       " ('man',\n",
       "  'you'): Text(-0.5000000000000001, -0.23942930394572184, \"'re following\"),\n",
       " ('man', 'man'): Text(-0.9988011683672657, -0.47828465995122477, 'sell'),\n",
       " ('you',\n",
       "  'you'): Text(-0.0011988316327343975, -0.0005739479402189462, \"'ll know\")}"
      ]
     },
     "execution_count": 163,
     "metadata": {},
     "output_type": "execute_result"
    },
    {
     "data": {
      "image/png": "[encoded data removed]",
      "text/plain": [
       "<Figure size 432x288 with 1 Axes>"
      ]
     },
     "metadata": {},
     "output_type": "display_data"
    }
   ],
   "source": [
    "shortest_sub = G.subgraph(shortest_nodes)\n",
    "pos = nx.spring_layout(shortest_sub)\n",
    "plt.figure() \n",
    "nx.draw(shortest_sub,pos,edge_color='black',width=1,linewidths=1,\\\n",
    "node_size=500,node_color='pink',alpha=0.9)\n",
    "nx.draw_networkx_edge_labels(shortest_sub, pos = pos, edge_labels=nx.get_edge_attributes(shortest_sub, \"relation\"),font_color='black',font_size=15)"
   ]
  },
  {
   "cell_type": "code",
   "execution_count": 150,
   "metadata": {},
   "outputs": [],
   "source": [
    "\n",
    "    "
   ]
  },
  {
   "cell_type": "code",
   "execution_count": null,
   "metadata": {},
   "outputs": [],
   "source": []
  }
 ],
 "metadata": {
  "interpreter": {
   "hash": "8a3e94419edb6749342685839f1f6e0821db91c009e01227ec730a6bdca5ad0f"
  },
  "kernelspec": {
   "display_name": "Python 3.8.1 64-bit ('.venv': poetry)",
   "name": "python3"
  },
  "language_info": {
   "codemirror_mode": {
    "name": "ipython",
    "version": 3
   },
   "file_extension": ".py",
   "mimetype": "text/x-python",
   "name": "python",
   "nbconvert_exporter": "python",
   "pygments_lexer": "ipython3",
   "version": "3.8.1"
  },
  "orig_nbformat": 4
 },
 "nbformat": 4,
 "nbformat_minor": 2
}
