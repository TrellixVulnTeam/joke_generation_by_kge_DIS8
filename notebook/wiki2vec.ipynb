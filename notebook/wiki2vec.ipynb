{
 "cells": [
  {
   "cell_type": "code",
   "execution_count": 3,
   "metadata": {},
   "outputs": [
    {
     "data": {
      "text/plain": [
       "[(<Entity Scarlett Johansson>, 1.0),\n",
       " (<Word charlize>, 0.76443684),\n",
       " (<Word winslet>, 0.72750795),\n",
       " (<Entity Hilary Swank>, 0.7215545),\n",
       " (<Word paltrow>, 0.71570885)]"
      ]
     },
     "execution_count": 3,
     "metadata": {},
     "output_type": "execute_result"
    }
   ],
   "source": [
    "from wikipedia2vec import Wikipedia2Vec\n",
    "MODEL_FILE = \"../data/wiki2vec_data\"\n",
    "wiki2vec = Wikipedia2Vec.load(MODEL_FILE)\n",
    "\n",
    "wiki2vec.get_word_vector('the')\n",
    "\n",
    "\n",
    "wiki2vec.most_similar(wiki2vec.get_word('yoda'), 5)\n",
    "\n",
    "\n",
    "wiki2vec.most_similar(wiki2vec.get_entity('Scarlett Johansson'), 5)"
   ]
  },
  {
   "cell_type": "code",
   "execution_count": 26,
   "metadata": {},
   "outputs": [],
   "source": [
    "france = wiki2vec.get_word_vector('france')\n",
    "paris = wiki2vec.get_word_vector(\"paris\")\n",
    "tokyo = wiki2vec.get_word_vector(\"tokyo\")\n"
   ]
  },
  {
   "cell_type": "code",
   "execution_count": 27,
   "metadata": {},
   "outputs": [
    {
     "data": {
      "text/plain": [
       "[(<Word japan>, 0.8613952),\n",
       " (<Word tokyo>, 0.8136271),\n",
       " (<Word chiba>, 0.75638205),\n",
       " (<Word kanagawa>, 0.75387955),\n",
       " (<Word osaka>, 0.74074227),\n",
       " (<Word segataya>, 0.7361506),\n",
       " (<Word aichi>, 0.73320305),\n",
       " (<Word nagoya>, 0.7327513),\n",
       " (<Word niigata>, 0.73250395),\n",
       " (<Word kyushu>, 0.73100233)]"
      ]
     },
     "execution_count": 27,
     "metadata": {},
     "output_type": "execute_result"
    }
   ],
   "source": [
    "wiki2vec.most_similar_by_vector(france+tokyo-paris, 10)"
   ]
  }
 ],
 "metadata": {
  "interpreter": {
   "hash": "8a3e94419edb6749342685839f1f6e0821db91c009e01227ec730a6bdca5ad0f"
  },
  "kernelspec": {
   "display_name": "Python 3.8.1 64-bit ('.venv': poetry)",
   "name": "python3"
  },
  "language_info": {
   "codemirror_mode": {
    "name": "ipython",
    "version": 3
   },
   "file_extension": ".py",
   "mimetype": "text/x-python",
   "name": "python",
   "nbconvert_exporter": "python",
   "pygments_lexer": "ipython3",
   "version": "3.8.1"
  },
  "orig_nbformat": 4
 },
 "nbformat": 4,
 "nbformat_minor": 2
}
